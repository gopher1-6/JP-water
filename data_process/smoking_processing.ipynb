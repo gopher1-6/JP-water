{
 "cells": [
  {
   "cell_type": "markdown",
   "metadata": {},
   "source": [
    "# 数据处理"
   ]
  },
  {
   "cell_type": "markdown",
   "metadata": {},
   "source": [
    "## 数据处理 - 吸烟"
   ]
  },
  {
   "cell_type": "markdown",
   "metadata": {},
   "source": [
    "smoking.xlsx\n",
    "\n",
    "> col 0\t            6位数字ID，前两位代表“县”  \n",
    "> col 1和col 2合起来   表示地点  \n",
    "> col 3\t            烟税\n",
    "> \n",
    "> 需要计算当地的人均烟税额，和该县的人均烟税额"
   ]
  },
  {
   "cell_type": "code",
   "execution_count": 1,
   "metadata": {
    "ExecuteTime": {
     "end_time": "2019-08-06T07:10:19.031570Z",
     "start_time": "2019-08-06T07:10:17.131664Z"
    }
   },
   "outputs": [],
   "source": [
    "import numpy as np\n",
    "import pandas as pd\n",
    "pd.set_option('display.width', 200)   # 每行最大字符\n",
    "pd.set_option('precision', 3)         # 显示数字精度\n",
    "\n",
    "import matplotlib as mpl\n",
    "import matplotlib.pyplot as plt\n",
    "import matplotlib.transforms as transforms\n",
    "\n",
    "plt.rcParams['figure.figsize'] = 18, 9\n",
    "plt.rcParams['axes.unicode_minus'] = False     # 显示数字负号\n",
    "plt.rcParams['font.sans-serif'] = ['SimHei']   # 显示中文字体\n",
    "mpl.rcParams['figure.dpi'] = 80\n",
    "mpl.rcParams['savefig.dpi'] = 100\n",
    "mpl.rcParams['font.size'] = 12\n",
    "mpl.rcParams['legend.fontsize'] = 'large'\n",
    "mpl.rcParams['figure.titlesize'] = 'medium'\n",
    "plt.style.use('seaborn-whitegrid')\n",
    "\n",
    "import seaborn as sns\n"
   ]
  },
  {
   "cell_type": "markdown",
   "metadata": {
    "ExecuteTime": {
     "end_time": "2019-08-05T09:39:25.622888Z",
     "start_time": "2019-08-05T09:39:25.596961Z"
    }
   },
   "source": [
    "### 预览"
   ]
  },
  {
   "cell_type": "code",
   "execution_count": 2,
   "metadata": {
    "ExecuteTime": {
     "end_time": "2019-08-06T07:10:42.600597Z",
     "start_time": "2019-08-06T07:10:42.348410Z"
    }
   },
   "outputs": [],
   "source": [
    "df = pd.read_excel(\"../smoking.xlsx\", sheet_name=\"Sheet1\")"
   ]
  },
  {
   "cell_type": "code",
   "execution_count": 6,
   "metadata": {
    "ExecuteTime": {
     "end_time": "2019-08-06T07:16:55.004373Z",
     "start_time": "2019-08-06T07:16:54.980478Z"
    }
   },
   "outputs": [
    {
     "name": "stdout",
     "output_type": "stream",
     "text": [
      "预览前几行\n"
     ]
    },
    {
     "data": {
      "text/html": [
       "<div>\n",
       "<style scoped>\n",
       "    .dataframe tbody tr th:only-of-type {\n",
       "        vertical-align: middle;\n",
       "    }\n",
       "\n",
       "    .dataframe tbody tr th {\n",
       "        vertical-align: top;\n",
       "    }\n",
       "\n",
       "    .dataframe thead th {\n",
       "        text-align: right;\n",
       "    }\n",
       "</style>\n",
       "<table border=\"1\" class=\"dataframe\">\n",
       "  <thead>\n",
       "    <tr style=\"text-align: right;\">\n",
       "      <th></th>\n",
       "      <th>団体\n",
       "コード</th>\n",
       "      <th>Unnamed: 1</th>\n",
       "      <th>団体名</th>\n",
       "      <th>市町村たばこ税</th>\n",
       "    </tr>\n",
       "  </thead>\n",
       "  <tbody>\n",
       "    <tr>\n",
       "      <th>0</th>\n",
       "      <td>11002</td>\n",
       "      <td>北海道</td>\n",
       "      <td>札幌市</td>\n",
       "      <td>672866</td>\n",
       "    </tr>\n",
       "    <tr>\n",
       "      <th>1</th>\n",
       "      <td>12025</td>\n",
       "      <td>北海道</td>\n",
       "      <td>函館市</td>\n",
       "      <td>79285</td>\n",
       "    </tr>\n",
       "    <tr>\n",
       "      <th>2</th>\n",
       "      <td>12033</td>\n",
       "      <td>北海道</td>\n",
       "      <td>小樽市</td>\n",
       "      <td>31130</td>\n",
       "    </tr>\n",
       "    <tr>\n",
       "      <th>3</th>\n",
       "      <td>12041</td>\n",
       "      <td>北海道</td>\n",
       "      <td>旭川市</td>\n",
       "      <td>98147</td>\n",
       "    </tr>\n",
       "    <tr>\n",
       "      <th>4</th>\n",
       "      <td>12050</td>\n",
       "      <td>北海道</td>\n",
       "      <td>室蘭市</td>\n",
       "      <td>28204</td>\n",
       "    </tr>\n",
       "    <tr>\n",
       "      <th>5</th>\n",
       "      <td>12068</td>\n",
       "      <td>北海道</td>\n",
       "      <td>釧路市</td>\n",
       "      <td>50656</td>\n",
       "    </tr>\n",
       "    <tr>\n",
       "      <th>6</th>\n",
       "      <td>12076</td>\n",
       "      <td>北海道</td>\n",
       "      <td>帯広市</td>\n",
       "      <td>55389</td>\n",
       "    </tr>\n",
       "    <tr>\n",
       "      <th>7</th>\n",
       "      <td>12084</td>\n",
       "      <td>北海道</td>\n",
       "      <td>北見市</td>\n",
       "      <td>37230</td>\n",
       "    </tr>\n",
       "    <tr>\n",
       "      <th>8</th>\n",
       "      <td>12092</td>\n",
       "      <td>北海道</td>\n",
       "      <td>夕張市</td>\n",
       "      <td>1836</td>\n",
       "    </tr>\n",
       "    <tr>\n",
       "      <th>9</th>\n",
       "      <td>12106</td>\n",
       "      <td>北海道</td>\n",
       "      <td>岩見沢市</td>\n",
       "      <td>23309</td>\n",
       "    </tr>\n",
       "  </tbody>\n",
       "</table>\n",
       "</div>"
      ],
      "text/plain": [
       "   団体\\nコード Unnamed: 1   団体名 市町村たばこ税\n",
       "0    11002        北海道   札幌市  672866\n",
       "1    12025        北海道   函館市   79285\n",
       "2    12033        北海道   小樽市   31130\n",
       "3    12041        北海道   旭川市   98147\n",
       "4    12050        北海道   室蘭市   28204\n",
       "5    12068        北海道   釧路市   50656\n",
       "6    12076        北海道   帯広市   55389\n",
       "7    12084        北海道   北見市   37230\n",
       "8    12092        北海道   夕張市    1836\n",
       "9    12106        北海道  岩見沢市   23309"
      ]
     },
     "execution_count": 6,
     "metadata": {},
     "output_type": "execute_result"
    }
   ],
   "source": [
    "print('预览前几行')\n",
    "df.head(10)"
   ]
  },
  {
   "cell_type": "code",
   "execution_count": 4,
   "metadata": {
    "ExecuteTime": {
     "end_time": "2019-08-06T07:13:14.595934Z",
     "start_time": "2019-08-06T07:13:14.577980Z"
    }
   },
   "outputs": [],
   "source": [
    "def explore_df(df):\n",
    "  print('==== row, col', df.shape)\n",
    "  print('==== describe ====')\n",
    "  print(df.describe())\n",
    "  print('==== info ====')\n",
    "  print(df.info())\n",
    "  \n",
    "# explore_df(df)"
   ]
  },
  {
   "cell_type": "code",
   "execution_count": 5,
   "metadata": {
    "ExecuteTime": {
     "end_time": "2019-08-06T07:13:19.966761Z",
     "start_time": "2019-08-06T07:13:19.928862Z"
    }
   },
   "outputs": [
    {
     "name": "stdout",
     "output_type": "stream",
     "text": [
      "==== row, col (1741, 4)\n",
      "==== describe ====\n",
      "          団体\\nコード\n",
      "count    1741.000\n",
      "mean   211462.809\n",
      "std    143348.780\n",
      "min     11002.000\n",
      "25%     82341.000\n",
      "50%    204030.000\n",
      "75%    332038.000\n",
      "max    473821.000\n",
      "==== info ====\n",
      "<class 'pandas.core.frame.DataFrame'>\n",
      "RangeIndex: 1741 entries, 0 to 1740\n",
      "Data columns (total 4 columns):\n",
      "団体\n",
      "コード        1741 non-null int64\n",
      "Unnamed: 1    1741 non-null object\n",
      "団体名           1741 non-null object\n",
      "市町村たばこ税       1741 non-null object\n",
      "dtypes: int64(1), object(3)\n",
      "memory usage: 54.5+ KB\n",
      "None\n"
     ]
    }
   ],
   "source": [
    "explore_df(df)"
   ]
  },
  {
   "cell_type": "code",
   "execution_count": null,
   "metadata": {},
   "outputs": [],
   "source": []
  },
  {
   "cell_type": "code",
   "execution_count": null,
   "metadata": {},
   "outputs": [],
   "source": []
  },
  {
   "cell_type": "code",
   "execution_count": null,
   "metadata": {},
   "outputs": [],
   "source": []
  },
  {
   "cell_type": "code",
   "execution_count": null,
   "metadata": {},
   "outputs": [],
   "source": []
  },
  {
   "cell_type": "code",
   "execution_count": null,
   "metadata": {},
   "outputs": [],
   "source": []
  },
  {
   "cell_type": "code",
   "execution_count": null,
   "metadata": {},
   "outputs": [],
   "source": []
  },
  {
   "cell_type": "code",
   "execution_count": null,
   "metadata": {},
   "outputs": [],
   "source": []
  },
  {
   "cell_type": "code",
   "execution_count": null,
   "metadata": {},
   "outputs": [],
   "source": []
  },
  {
   "cell_type": "code",
   "execution_count": null,
   "metadata": {},
   "outputs": [],
   "source": []
  },
  {
   "cell_type": "code",
   "execution_count": null,
   "metadata": {},
   "outputs": [],
   "source": []
  },
  {
   "cell_type": "code",
   "execution_count": null,
   "metadata": {},
   "outputs": [],
   "source": []
  },
  {
   "cell_type": "code",
   "execution_count": null,
   "metadata": {},
   "outputs": [],
   "source": []
  },
  {
   "cell_type": "code",
   "execution_count": null,
   "metadata": {},
   "outputs": [],
   "source": []
  },
  {
   "cell_type": "code",
   "execution_count": null,
   "metadata": {},
   "outputs": [],
   "source": []
  },
  {
   "cell_type": "code",
   "execution_count": null,
   "metadata": {},
   "outputs": [],
   "source": []
  },
  {
   "cell_type": "code",
   "execution_count": null,
   "metadata": {},
   "outputs": [],
   "source": []
  },
  {
   "cell_type": "code",
   "execution_count": null,
   "metadata": {},
   "outputs": [],
   "source": []
  },
  {
   "cell_type": "code",
   "execution_count": null,
   "metadata": {},
   "outputs": [],
   "source": []
  }
 ],
 "metadata": {
  "hide_input": false,
  "kernelspec": {
   "display_name": "Python 3",
   "language": "python",
   "name": "python3"
  },
  "language_info": {
   "codemirror_mode": {
    "name": "ipython",
    "version": 3
   },
   "file_extension": ".py",
   "mimetype": "text/x-python",
   "name": "python",
   "nbconvert_exporter": "python",
   "pygments_lexer": "ipython3",
   "version": "3.6.3"
  },
  "toc": {
   "nav_menu": {
    "height": "213px",
    "width": "584px"
   },
   "number_sections": true,
   "sideBar": true,
   "skip_h1_title": false,
   "title_cell": "Table of Contents",
   "title_sidebar": "Contents",
   "toc_cell": false,
   "toc_position": {},
   "toc_section_display": true,
   "toc_window_display": false
  }
 },
 "nbformat": 4,
 "nbformat_minor": 2
}
